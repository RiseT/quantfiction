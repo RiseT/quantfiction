{
 "cells": [
  {
   "cell_type": "code",
   "execution_count": null,
   "source": [
    "import pandas as pd, numpy as np\n",
    "import matplotlib.pyplot as plt\n",
    "%matplotlib inline"
   ],
   "outputs": [],
   "metadata": {
    "collapsed": true
   }
  },
  {
   "cell_type": "code",
   "execution_count": null,
   "source": [
    "def get_returns(outcomes, num_periods):\n",
    "    return np.random.choice(outcomes, num_periods)\n",
    "\n",
    "def sharpe_ratio(returns, num_periods=250, risk_free=0):\n",
    "    sharpe = (np.mean(returns) - risk_free) / np.std(returns) * np.sqrt(num_periods)\n",
    "    return sharpe\n",
    "\n",
    "def ulcer_index(equity_curve):\n",
    "    _drawdown = drawdown(equity_curve)\n",
    "    ulcer_index = np.sqrt(np.mean(_drawdown**2)) * 100\n",
    "    return ulcer_index"
   ],
   "outputs": [],
   "metadata": {
    "collapsed": true
   }
  },
  {
   "cell_type": "markdown",
   "source": [
    "# Background\n",
    "The secret of becoming wealthy through speculation lies in the magic of compounding interest. "
   ],
   "metadata": {}
  },
  {
   "cell_type": "markdown",
   "source": [
    "# Coin Flips\n",
    "Let's start with an illustrative example. I am a wealthy (and extremely generous) casino owner and I've offered you the following opportunity: I'm going to flip a coin, and let you gamble on the results. If it comes up heads, I'll double whatever you bet; tails, you lose your whole wager. It should be immediately obvious this is a game you want to play. The question, then, is how much of your net worth should you put at stake? Intuitively, it should be less than 100%.. you're broke after the first bad flip!\n",
    "\n",
    "There are two ways to evaluate the expected value: arithmetic and geometric. We'll examine the differences between the two below. If any outcome would cause us to lose more than our entire net worth, we'll bound the set of outcomes such that "
   ],
   "metadata": {}
  },
  {
   "cell_type": "code",
   "execution_count": null,
   "source": [
    "def expected_arith(returns):\n",
    "    expected_arith = np.mean(returns)\n",
    "    return expected_arith\n",
    "\n",
    "def expected_geom(returns):\n",
    "    returns = np.array(returns)\n",
    "    expected_geom = np.product(1 + returns) ** (1 / len(returns)) - 1\n",
    "    return expected_geom"
   ],
   "outputs": [],
   "metadata": {
    "collapsed": true
   }
  },
  {
   "cell_type": "code",
   "execution_count": null,
   "source": [
    "coin_outcomes = np.array([2, -1])\n",
    "coin_exp_arith = expected_arith(coin_outcomes)\n",
    "coin_exp_geom = expected_geom(coin_outcomes) \n",
    "print('Expected Value (Arithmetic): {}%'.format(coin_exp_arith * 100))\n",
    "print('Expected Value (Geometric): {}%'.format(coin_exp_geom * 100))"
   ],
   "outputs": [],
   "metadata": {}
  },
  {
   "cell_type": "markdown",
   "source": [
    "In the scenario where you wager everything you've got, there is a radical difference in expected value! While on average, you think you'd make $0.50 for every dollar wagered, the real result is that you're likely to lose everything. Let's see what happens if we only bet 5% of our total stake."
   ],
   "metadata": {}
  },
  {
   "cell_type": "code",
   "execution_count": null,
   "source": [
    "fractional_coin_outcomes = 0.01 * coin_outcomes\n",
    "coin_exp_arith_fr = expected_arith(fractional_coin_outcomes)\n",
    "coin_exp_geom_fr = expected_geom(fractional_coin_outcomes)\n",
    "print('Expected Value (Arithmetic): {}%'.format(np.round(coin_exp_arith_fr * 100, 3)))\n",
    "print('Expected Value (Geometric): {}%'.format(np.round(coin_exp_geom_fr * 100, 3)))"
   ],
   "outputs": [],
   "metadata": {}
  },
  {
   "cell_type": "markdown",
   "source": [
    "## Kelly Criterion"
   ],
   "metadata": {}
  },
  {
   "cell_type": "markdown",
   "source": [
    "In this scenario, the expected outcomes are much closer to one another! The geometric expectancy is slightly lower than the arithmetic counterpart (this is actually always the case).\n",
    "\n",
    "For simple scenarios such as this, there is actually a simple formula to determine the optimal fraction of your bankroll/ account to stake. Known as the Kelly Criterion, the formula is defined as follows:\n",
    "\n",
    "<center>Kelly %  = $W - \\frac{1 - W}{R}$</center>\n",
    "\n",
    "Where <br />\n",
    "W = the probability of winning a given bet <br />\n",
    "R = the ratio of a winning bet to a losing bet"
   ],
   "metadata": {}
  },
  {
   "cell_type": "code",
   "execution_count": null,
   "source": [
    "def worst_loss(returns):\n",
    "    return np.abs(np.min(returns))\n",
    "\n",
    "def bound_returns(returns):\n",
    "    return returns / worst_loss(returns)"
   ],
   "outputs": [],
   "metadata": {
    "collapsed": true
   }
  },
  {
   "cell_type": "code",
   "execution_count": null,
   "source": [
    "def kelly_fraction(returns):\n",
    "    returns = np.array(returns)\n",
    "    wins = returns[returns > 0]\n",
    "    losses = returns[returns <= 0]\n",
    "    W = len(wins) / len(returns)\n",
    "    R = np.mean(wins) / np.abs(np.mean(losses))\n",
    "    kelly_f = W - ( (1 - W) / R )\n",
    "    return kelly_f\n",
    "\n",
    "def kelly_results(returns):\n",
    "    bounded_rets = bound_returns(returns)\n",
    "    kelly_f = kelly_fraction(bounded_rets) / worst_loss(returns)\n",
    "\n",
    "    exp_arith_kelly = expected_arith(returns * kelly_f)\n",
    "    exp_geom_kelly = expected_geom(bounded_rets * kelly_f)\n",
    "\n",
    "    print('Kelly f: {}'.format(np.round(kelly_f, 3)))\n",
    "    print('Expected Value (Arithmetic): {}%'.format(np.round(exp_arith_kelly * 100, 5)))\n",
    "    print('Expected Value (Geometric): {}%'.format(np.round(exp_geom_kelly * 100, 5)))"
   ],
   "outputs": [],
   "metadata": {
    "collapsed": true
   }
  },
  {
   "cell_type": "markdown",
   "source": [
    "Let's see the optimal fraction to stake based on the Kelly Criterion"
   ],
   "metadata": {}
  },
  {
   "cell_type": "code",
   "execution_count": null,
   "source": [
    "kelly_results(coin_outcomes)"
   ],
   "outputs": [],
   "metadata": {}
  },
  {
   "cell_type": "markdown",
   "source": [
    "## Optimal f"
   ],
   "metadata": {}
  },
  {
   "cell_type": "markdown",
   "source": [
    "Alternatively, we can see if there's a sweet spot for stake percentage by iterating through all possible fractions and evaulating the expected geometric returns at each. This will generate a curve, and the peak of this curve represents the optimal fraction to bet. Ralph Vince has termed this point \"optimal f\". We'll consider all values which don't cause us to go bust. To do so, we'll divide the stake percentage by our worst loss. The most we would ever wager is an amount such that the worst possible outcome would cause us to lose all of our money."
   ],
   "metadata": {}
  },
  {
   "cell_type": "code",
   "execution_count": null,
   "source": [
    "def get_f(returns):\n",
    "    exp_df = pd.DataFrame(columns=['arithmetic', 'geometric'], dtype=float)\n",
    "    f_values = np.linspace(0, 1, 101)    \n",
    "    max_loss = worst_loss(returns)\n",
    "    bounded_f = f_values / max_loss\n",
    "    for f in bounded_f:\n",
    "        exp_df.loc[f, 'arithmetic'] = expected_arith(f * returns)\n",
    "        exp_df.loc[f, 'geometric'] = expected_geom(f * returns)\n",
    "    optimal_f = exp_df['geometric'].idxmax()\n",
    "    return {'f_curve':exp_df, 'optimal_f':optimal_f, 'max_loss':max_loss}\n",
    "\n",
    "def f_plots2(f, title=''):\n",
    "    f_curve = f['f_curve']\n",
    "    optimal_f = f['optimal_f']\n",
    "    max_loss = f['max_loss']\n",
    "    f_exp = f_curve.loc[optimal_f, 'geometric']\n",
    "    \n",
    "    fig, ax = plt.subplots(2, 1, figsize=(15, 15), sharex=False)\n",
    "    f_curve.plot(ax=ax[0])\n",
    "    ax[0].plot(optimal_f, f_curve.loc[optimal_f, 'geometric'], color='r', marker='x')\n",
    "    ax[0].axhline(0, color='k')\n",
    "    # ax[0].set_xticks(np.linspace(0, x_lim, 11))\n",
    "    ax[0].set_xlabel('Fraction Staked')\n",
    "    ax[0].set_ylabel('Expected Return %')\n",
    "    ax[0].set_title(title + ' Optimal f')\n",
    "\n",
    "    # There's probably a better way to do this, but I'm no matplotlib guru\n",
    "    f_curve.plot(ax=ax[1])\n",
    "    ax[1].plot(optimal_f, f_curve.loc[optimal_f, 'geometric'], color='r', marker='x')\n",
    "    ax[1].axhline(0, color='k')\n",
    "    ax[1].axvline(optimal_f, color='r', linestyle=':')\n",
    "    ax[1].axhline(f_curve.loc[optimal_f, 'geometric'], color='r', linestyle=':')\n",
    "    ax[1].set_xlim(0, optimal_f * 2.25)\n",
    "    ax[1].set_ylim(-f_exp, f_exp * 1.25)\n",
    "    # ax[1].set_xticks(np.linspace(0, x_lim / 2, 11))\n",
    "    ax[1].set_xlabel('Fraction Staked')\n",
    "    ax[1].set_ylabel('Expected Return %')\n",
    "    ax[1].set_title(title + ' Optimal f')\n",
    "\n",
    "    # plt.savefig(title + ' optimal f.png', bbox_inches='tight')\n",
    "    plt.show()\n",
    "    \n",
    "def f_plots(f, title=''):\n",
    "    f_curve = f['f_curve']\n",
    "    optimal_f = f['optimal_f']\n",
    "    max_loss = f['max_loss']\n",
    "    f_exp = f_curve.loc[optimal_f, 'geometric']\n",
    "    \n",
    "    fig, ax = plt.subplots(1, 1, figsize=(10, 10), sharex=False)\n",
    "    f_curve.plot(ax=ax)\n",
    "    ax.plot(optimal_f, f_curve.loc[optimal_f, 'geometric'], color='r', marker='x')\n",
    "    ax.axhline(0, color='k')\n",
    "    ax.axvline(optimal_f, color='r', linestyle=':')\n",
    "    ax.axhline(f_curve.loc[optimal_f, 'geometric'], color='r', linestyle=':')\n",
    "    ax.set_xlim(0, optimal_f * 2.25)\n",
    "    ax.set_ylim(-f_exp, f_exp * 1.25)\n",
    "    ax.set_xlabel('Fraction Staked')\n",
    "    ax.set_ylabel('Expected Return %')\n",
    "    ax.set_title(title + ' Optimal f')\n",
    "\n",
    "    # plt.savefig(title + ' optimal f.png', bbox_inches='tight')\n",
    "    plt.show()\n",
    "    \n",
    "def f_results(f):\n",
    "    f_curve = f['f_curve']\n",
    "    optimal_f = f['optimal_f']\n",
    "    exp_arith = f_curve.loc[optimal_f, 'arithmetic']\n",
    "    exp_geom = f_curve.loc[optimal_f, 'geometric']\n",
    "    \n",
    "    print('Optimal f: {}'.format(np.round(optimal_f, 3)))\n",
    "    print('Expected Value (Arithmetic): {}%'.format(np.round(exp_arith, 5) * 100))\n",
    "    print('Expected Value (Geometric): {}%'.format(np.round(exp_geom, 5) * 100))"
   ],
   "outputs": [],
   "metadata": {}
  },
  {
   "cell_type": "code",
   "execution_count": null,
   "source": [
    "coin_f = get_f(coin_outcomes)\n",
    "f_plots(coin_f, title='Coin Flip')\n",
    "f_results(coin_f)"
   ],
   "outputs": [],
   "metadata": {}
  },
  {
   "cell_type": "markdown",
   "source": [
    "As we can see, this approach returns the same results as the Kelly formula. We'll soon discover this approach offers some benefits to plugging values into the formula. It's also important to notice from the graph the implications of risking too much of your capital. Even though this game has an extremely high expected payout (almost surely higher than any you're likely to find in real life!), risking more than 50% of your total bankroll on each bet will cause the expected compound growth of your capital to be negative. In fact, staking more than the optimal f fraction of your account will actually have a negative impact on compounded growth. It should be clear that the idea of \"betting big to win big\" does not always hold. "
   ],
   "metadata": {}
  },
  {
   "cell_type": "markdown",
   "source": [
    "# Dice"
   ],
   "metadata": {}
  },
  {
   "cell_type": "markdown",
   "source": [
    "Let's step things up a notch here. The next scenario we'll consider is a dice roll. I'm still the same altruistic rich guy, and I've offered you the opportunity to bet on the roll of a six-sided die. If an even number comes up, I'll pay you that multiple of your bet. If it comes up odd, you pay me that multiple. Again, we see that the arithmetic expectancy of this game is in your favor. However, in order to assess the geometric average return of this game, we'll first need to bound the returns. Since you'll pay me five times your wager if you roll a five, the most you could possibly bet is 1/5 of your capital."
   ],
   "metadata": {}
  },
  {
   "cell_type": "code",
   "execution_count": null,
   "source": [
    "dice_outcomes = np.array([-1, 2, -3, 4, -5, 6])\n",
    "\n",
    "dice_outcomes_bounded = bound_returns(dice_outcomes)\n",
    "dice_exp_arith = expected_arith(dice_outcomes_bounded) * 100\n",
    "dice_exp_geom = expected_geom(dice_outcomes_bounded) * 100\n",
    "\n",
    "print('Expected Value (Arithmetic): {}%'.format(np.round(dice_exp_arith), 3))\n",
    "print('Expected Value (Geometric): {}%'.format(np.round(dice_exp_geom), 3))"
   ],
   "outputs": [],
   "metadata": {}
  },
  {
   "cell_type": "markdown",
   "source": [
    "Again, we see that what looks like a great bet at the onset will eventually leave you dead broke if your risk too much. We can use the Kelly Criterion to try and determine what the optimal amount to stake on each roll is."
   ],
   "metadata": {}
  },
  {
   "cell_type": "code",
   "execution_count": null,
   "source": [
    "kelly_results(dice_outcomes)"
   ],
   "outputs": [],
   "metadata": {}
  },
  {
   "cell_type": "markdown",
   "source": [
    "And let's compare that to the optimal f value by evaluating the peak of the curve."
   ],
   "metadata": {}
  },
  {
   "cell_type": "code",
   "execution_count": null,
   "source": [
    "dice_f = get_f(dice_outcomes)\n",
    "f_plots(dice_f, title='Dice Roll')\n",
    "f_results(dice_f)"
   ],
   "outputs": [],
   "metadata": {}
  },
  {
   "cell_type": "markdown",
   "source": [
    "In the scenario where possible outcomes are not binary, the Kelly Criterion doesn't return the optimal solution. You'd be leaving money on the table calculating your bet size this way!"
   ],
   "metadata": {}
  },
  {
   "cell_type": "markdown",
   "source": [
    "# Market Returns"
   ],
   "metadata": {}
  },
  {
   "cell_type": "markdown",
   "source": [
    "Finally, we'll get to a real application. No casino can stay in business offering games that give gamblers an edge over the house (if you find one, let me know!). However, the stock market has proved to be a reliable way to grow one's capital through compounding historically. Let's find out how much capital we should devote to the market in order to get the maximum returns!\n",
    "\n",
    "It's worth mentioning at this point that the approaches used going forward are only valid if future market returns match past returns. As any financial advisor worth their salt will tell you, this **IS NOT GUARANTEED**. Unlike the games covered previously, where all possible outcomes were defined in advance, the markets offer no guarantees. The best we can do is plug in past returns and make tweaks if we deem them necessary.\n",
    "\n",
    "For this study, we'll use the daily returns of the 'SPY' S&P 500 ETF as our outcomes."
   ],
   "metadata": {}
  },
  {
   "cell_type": "code",
   "execution_count": null,
   "source": [
    "# SPY.csv file available in GitHub 'data' folder\n",
    "spy = pd.read_csv('data/SPY.csv', parse_dates=True, index_col=0)\n",
    "spy.sort_index(ascending=True, inplace=True)\n",
    "spy.head()"
   ],
   "outputs": [],
   "metadata": {}
  },
  {
   "cell_type": "code",
   "execution_count": null,
   "source": [
    "from pandas.plotting import table\n",
    "ax = plt.subplot(111, frame_on=False) # no visible frame\n",
    "ax.xaxis.set_visible(False)  # hide the x axis\n",
    "ax.yaxis.set_visible(False)  # hide the y axis\n",
    "\n",
    "table(ax, spy.head(), loc='center')"
   ],
   "outputs": [],
   "metadata": {}
  },
  {
   "cell_type": "code",
   "execution_count": null,
   "source": [
    "# Use daily returns from adjusted closing prices\n",
    "spy_returns = spy['Adj Close'].pct_change().dropna()\n",
    "spy_returns.describe()"
   ],
   "outputs": [],
   "metadata": {}
  },
  {
   "cell_type": "code",
   "execution_count": null,
   "source": [
    "kelly_results(spy_returns)"
   ],
   "outputs": [],
   "metadata": {}
  },
  {
   "cell_type": "code",
   "execution_count": null,
   "source": [
    "spy_f = get_f(spy_returns)\n",
    "f_plots(spy_f, title='SPY Returns')\n",
    "f_results(spy_f)"
   ],
   "outputs": [],
   "metadata": {}
  },
  {
   "cell_type": "code",
   "execution_count": null,
   "source": [
    "expected_geom(3.14 * spy_returns)"
   ],
   "outputs": [],
   "metadata": {}
  },
  {
   "cell_type": "markdown",
   "source": [
    "In this case, we should actually bet *more* capital than we have. To do so, we'll have to employ leverage; either by borrowing money to increase the bet size or by trading instruments with inherent leverage such as options or futures."
   ],
   "metadata": {}
  },
  {
   "cell_type": "markdown",
   "source": [
    "# Drawdown"
   ],
   "metadata": {}
  },
  {
   "cell_type": "markdown",
   "source": [
    "To this point, we've solely focused on maximizing the return on our capital. However, as an investor we're likely just as concerned with how much risk we're taking on. We'll see below that the path taken to reach the maximum final account value is certainly not an easy one. From peak equity, an investor would need to weather a 97% drawdown on the path to the greatest final account value. It's unlikely that anyone could stick with this strategy."
   ],
   "metadata": {}
  },
  {
   "cell_type": "code",
   "execution_count": null,
   "source": [
    "def equity_curve(returns):\n",
    "    _equity_curve = (1 + returns).cumprod(axis=0)\n",
    "    # Set the starting value of every curve to 1\n",
    "    # normalized_eq = raw_eq / raw_eq[0]\n",
    "    return _equity_curve\n",
    "\n",
    "def drawdown(equity_curve):\n",
    "    eq_series = pd.DataFrame(equity_curve)\n",
    "    _drawdown = eq_series / eq_series.cummax() - 1\n",
    "    return _drawdown\n",
    "\n",
    "def max_drawdown(equity_curve, percent=True):\n",
    "    abs_drawdown = np.abs(drawdown(equity_curve)).values\n",
    "    _max_drawdown = np.max(abs_drawdown)\n",
    "    if percent == True:\n",
    "        return _max_drawdown * 100\n",
    "    else:\n",
    "        return _max_drawdown\n",
    "    \n",
    "def ulcer_index(equity_curve):\n",
    "    _drawdown = drawdown(equity_curve)\n",
    "    _ulcer_index = np.sqrt(np.mean(_drawdown**2)) * 100\n",
    "    return _ulcer_index\n",
    "\n",
    "def equity_plot(returns, title=''):\n",
    "    fig, ax = plt.subplots(2, 1, figsize = (10, 10), sharex=True)\n",
    "    eq = equity_curve(returns)\n",
    "    dd = drawdown(eq) * 100\n",
    "    ax[0].plot(eq)\n",
    "    ax[0].set_title('Equity (Multiple of Starting Value)')\n",
    "    dd.plot(ax=ax[1], kind='area')\n",
    "    ax[1].set_title('Drawdown (%)')\n",
    "    plt.savefig(title + ' Equity Plot.png')\n",
    "    plt.show()"
   ],
   "outputs": [],
   "metadata": {
    "collapsed": true
   }
  },
  {
   "cell_type": "code",
   "execution_count": null,
   "source": [
    "optimal_returns = spy_returns * spy_f['optimal_f']\n",
    "equity_plot(optimal_returns, title='SPY Optimal f')\n",
    "max_dd = max_drawdown(equity_curve(optimal_returns))\n",
    "print(\"Max Drawdown: {}%\".format(np.round(max_dd, 2)))"
   ],
   "outputs": [],
   "metadata": {}
  },
  {
   "cell_type": "code",
   "execution_count": null,
   "source": [
    "def twr(equity_curve, start_at_1=True):\n",
    "    eq_arr = np.array(equity_curve)\n",
    "    if start_at_1 == True:\n",
    "        _twr = eq_arr[-1] \n",
    "    else:\n",
    "        _twr = eq_arr[-1] / eq_arr[0]\n",
    "    return _twr\n",
    "\n",
    "def ghpr(equity_curve):\n",
    "    _twr = twr(equity_curve)\n",
    "    _ghpr = _twr ** (1 / len(equity_curve)) - 1\n",
    "    return _ghpr"
   ],
   "outputs": [],
   "metadata": {
    "collapsed": true
   }
  },
  {
   "cell_type": "code",
   "execution_count": null,
   "source": [
    "def get_f_dd(returns):\n",
    "    f_values = np.linspace(0, 0.99, 100)\n",
    "    max_loss = np.abs(np.min(returns))\n",
    "    bounded_f = f_values / max_loss\n",
    "    df = pd.DataFrame(columns=['ghpr', 'drawdown'], dtype=float)    \n",
    "    for f in bounded_f:\n",
    "        eq = equity_curve(f * returns)\n",
    "        _ghpr = ghpr(eq)\n",
    "        _max_drawdown = max_drawdown(eq)\n",
    "        # _ulcer_index = ulcer_index(eq)\n",
    "        df.loc[f, 'ghpr'] = _ghpr * 100\n",
    "        df.loc[f, 'drawdown'] = _max_drawdown\n",
    "        # df.loc[f, 'ulcer index'] = _ulcer_index\n",
    "    optimal_f = df['ghpr'].idxmax()\n",
    "    return {'f_curve':df, 'optimal_f':optimal_f, 'max_loss':max_loss}\n",
    "\n",
    "def f_dd_plot(f, title=''):\n",
    "    f_curve = f['f_curve']\n",
    "    optimal_f = f['optimal_f']\n",
    "    optimal_f_ghpr = f_curve.loc[optimal_f, 'ghpr']\n",
    "    limit_dd = f_curve.loc[2 * optimal_f, 'drawdown']\n",
    "\n",
    "    fig, ax = plt.subplots(1, 1, figsize=(10, 7))\n",
    "    f_curve.plot(secondary_y='drawdown', ax=ax)\n",
    "\n",
    "    ax.set_xlim(0, optimal_f * 2)\n",
    "    ax.set_ylim(0, 1.5 * optimal_f_ghpr)\n",
    "    ax.right_ax.set_ylim(0)\n",
    "    ax.set_title(title + ' GHPR vs Max Drawdown')\n",
    "    ax.set_xlabel('Fraction Staked')\n",
    "    ax.set_ylabel('GHPR (%)')\n",
    "    ax.right_ax.set_ylabel('Drawdown (%)')\n",
    "    ax.axvline(optimal_f, linestyle=':', color='red')\n",
    "    \n",
    "    plt.savefig(title + ' f Drawdown Curve.png')   \n",
    "    plt.show()\n",
    "    \n",
    "def f_dd_results(f):\n",
    "    f_curve = f['f_curve']\n",
    "    optimal_f = f['optimal_f']\n",
    "    ghpr = f_curve.loc[optimal_f, 'ghpr']\n",
    "    drawdown = f_curve.loc[optimal_f, 'drawdown']\n",
    "    \n",
    "    print('Optimal f: {}'.format(np.round(optimal_f, 3)))\n",
    "    print('Geometric Holding Period Return: {}%'.format(np.round(ghpr, 5)))\n",
    "    print('Max Drawdown: {}%'.format(np.round(drawdown, 2)))"
   ],
   "outputs": [],
   "metadata": {
    "collapsed": true
   }
  },
  {
   "cell_type": "code",
   "execution_count": null,
   "source": [
    "spy_f = get_f_dd(spy_returns)\n",
    "    \n",
    "f_dd_plot(spy_f, 'SPY')    \n",
    "f_dd_results(spy_f)"
   ],
   "outputs": [],
   "metadata": {}
  },
  {
   "cell_type": "code",
   "execution_count": null,
   "source": [
    "def get_f_bounded(returns, drawdown_limit):\n",
    "    f_values = np.linspace(0, 0.99, 199)\n",
    "    max_loss = np.abs(np.min(returns))\n",
    "    bounded_f = f_values / max_loss\n",
    "    df = pd.DataFrame(columns=['ghpr', 'drawdown'], dtype=float)    \n",
    "    for f in bounded_f:\n",
    "        eq = equity_curve(f * returns)\n",
    "        _max_drawdown = max_drawdown(eq)\n",
    "        if _max_drawdown <= drawdown_limit:\n",
    "            _ghpr = ghpr(eq)\n",
    "        else:\n",
    "            _ghpr = 0\n",
    "        df.loc[f, 'ghpr'] = _ghpr * 100\n",
    "        df.loc[f, 'drawdown'] = _max_drawdown\n",
    "    optimal_f = df['ghpr'].idxmax()\n",
    "    return {'f_curve':df, 'optimal_f':optimal_f, 'max_loss':max_loss}"
   ],
   "outputs": [],
   "metadata": {
    "collapsed": true
   }
  },
  {
   "cell_type": "code",
   "execution_count": null,
   "source": [
    "spy_f_bounded = get_f_bounded(spy_returns, drawdown_limit=25)\n",
    "f_dd_plot(spy_f_bounded, 'SPY Bounded')\n",
    "f_dd_results(spy_f_bounded)"
   ],
   "outputs": [],
   "metadata": {}
  },
  {
   "cell_type": "code",
   "execution_count": null,
   "source": [
    "def reordered_curves(returns, n_curves):\n",
    "    curves = pd.DataFrame(index=returns.index)\n",
    "    for i in range(n_curves):\n",
    "        reordered = np.random.permutation(returns)\n",
    "        curves[i] = equity_curve(reordered)\n",
    "    return curves\n",
    "\n",
    "spy_curves_10 = reordered_curves(spy_returns, 10)\n",
    "\n",
    "fig, ax = plt.subplots(1, 1, figsize=(10, 10))\n",
    "spy_curves_10.plot(ax=ax)\n",
    "ax.set_title('Equity Curves')\n",
    "plt.savefig('10 Equity Curves.png')\n",
    "plt.show()"
   ],
   "outputs": [],
   "metadata": {}
  },
  {
   "cell_type": "code",
   "execution_count": null,
   "source": [
    "curve_results = pd.DataFrame()\n",
    "curve_results['GHPR'] = ghpr(spy_curves_10)\n",
    "curve_results['Max Drawdown'] = max_drawdown(spy_curves_10)\n",
    "curve_results"
   ],
   "outputs": [],
   "metadata": {}
  },
  {
   "cell_type": "code",
   "execution_count": null,
   "source": [
    "spy_curves_5000 = reordered_curves(spy_returns, 5000)\n",
    "spy_drawdown_5000 = spy_curves_5000.apply(max_drawdown)\n",
    "spy_drawdown_5000.hist(bins=25)\n",
    "plt.title('Possible Max Drawdown Values')\n",
    "plt.savefig('5000 SPY Drawdown Values.png')\n",
    "plt.show()\n",
    "print('Maximum Drawdown: {}%'.format(np.round(spy_drawdown_5000.max(), 3)))"
   ],
   "outputs": [],
   "metadata": {}
  },
  {
   "cell_type": "code",
   "execution_count": null,
   "source": [
    "import time\n",
    "\n",
    "def ideal_f(returns, time_horizon, n_curves, drawdown_limit, certainty_level):    \n",
    "    \"\"\"\n",
    "    Calculates ideal fraction to stake on an investment with given return distribution \n",
    "\n",
    "    Args:\n",
    "        returns: (array-like) distribution that's representative of future returns\n",
    "        time_horizon: (integer) the number of returns to sample for each curve\n",
    "        n_curves: (integer) the number of equity curves to generate on each iteration of f\n",
    "        drawdown_limit: (real) user-specified value for drawdown which must not be exceeded\n",
    "        certainty_level: (real) the level of confidence that drawdown\n",
    "            limit will not be exceeded\n",
    "\n",
    "    Returns:\n",
    "        'f_curve': calculated drawdown and ghpr value at each value of f\n",
    "        'optimal_f': the ideal fraction of one's account to stake on an investment\n",
    "        'max_loss': the maximum loss sustained in the provided returns distribution\n",
    "\n",
    "    \"\"\"\n",
    "    print('Calculating ideal f...')\n",
    "    start = time.time()\n",
    "    \n",
    "    f_values = np.linspace(0, 0.99, 200)\n",
    "    max_loss = np.abs(np.min(returns))\n",
    "    bounded_f = f_values / max_loss\n",
    "    f_curve = pd.DataFrame(columns=['ghpr', 'drawdown'], dtype=float)    \n",
    "    for f in bounded_f:\n",
    "        # Generate n_curves number of random equity curves\n",
    "        reordered_returns = np.random.choice(f * returns, size=(time_horizon, n_curves))\n",
    "        curves = equity_curve(reordered_returns)\n",
    "        curves_df = pd.DataFrame(curves)        \n",
    "        # Calculate GHPR and Maximum Drawdown for each equity curve\n",
    "        curves_drawdown = max_drawdown(curves_df)\n",
    "        curves_ghpr = ghpr(curves_df) \n",
    "        # Calculate drawdown at our certainty level\n",
    "        drawdown_percentile = np.percentile(curves_drawdown, certainty_level)\n",
    "        # Calculate median ghpr value\n",
    "        ghpr_median = np.median(curves_ghpr)\n",
    "        if drawdown_percentile <= drawdown_limit:\n",
    "            _ghpr = ghpr_median\n",
    "        else:\n",
    "            _ghpr = 0\n",
    "        f_curve.loc[f, 'ghpr'] = _ghpr * 100\n",
    "        f_curve.loc[f, 'drawdown'] = drawdown_percentile\n",
    "    optimal_f = f_curve['ghpr'].idxmax()\n",
    "    \n",
    "    elapsed = time.time() - start\n",
    "    print('Ideal f calculated in {}s'.format(elapsed))\n",
    "    \n",
    "    return {'f_curve':f_curve, 'optimal_f':optimal_f, 'max_loss':max_loss}"
   ],
   "outputs": [],
   "metadata": {
    "collapsed": true
   }
  },
  {
   "cell_type": "code",
   "execution_count": null,
   "source": [
    "spy_ideal_f = ideal_f(spy_returns, time_horizon=250, n_curves=1000, drawdown_limit=25, certainty_level=95)"
   ],
   "outputs": [],
   "metadata": {}
  },
  {
   "cell_type": "code",
   "execution_count": null,
   "source": [
    "f_dd_plot(spy_ideal_f, title='SPY Ideal f')\n",
    "f_dd_results(spy_ideal_f)"
   ],
   "outputs": [],
   "metadata": {}
  },
  {
   "cell_type": "code",
   "execution_count": null,
   "source": [],
   "outputs": [],
   "metadata": {
    "collapsed": true
   }
  }
 ],
 "metadata": {
  "kernelspec": {
   "name": "python3",
   "display_name": "Python 3.9.7 64-bit ('ds_py39': conda)"
  },
  "language_info": {
   "codemirror_mode": {
    "name": "ipython",
    "version": 3
   },
   "file_extension": ".py",
   "mimetype": "text/x-python",
   "name": "python",
   "nbconvert_exporter": "python",
   "pygments_lexer": "ipython3",
   "version": "3.9.7"
  },
  "toc": {
   "nav_menu": {},
   "number_sections": true,
   "sideBar": true,
   "skip_h1_title": false,
   "toc_cell": false,
   "toc_position": {
    "height": "703px",
    "left": "0px",
    "right": "1468px",
    "top": "107px",
    "width": "212px"
   },
   "toc_section_display": "block",
   "toc_window_display": true
  },
  "interpreter": {
   "hash": "40624cfed3b680584cae7a0a20cf410644ea7b0ea18bcb454790447485b99aad"
  }
 },
 "nbformat": 4,
 "nbformat_minor": 2
}